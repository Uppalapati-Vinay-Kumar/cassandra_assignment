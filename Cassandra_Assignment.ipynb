{
 "cells": [
  {
   "cell_type": "code",
   "execution_count": 58,
   "metadata": {
    "colab": {
     "base_uri": "https://localhost:8080/"
    },
    "id": "AXNbF6oAC0kE",
    "outputId": "a73f2ca9-7b93-4fd4-9552-8e0dc3d7879b"
   },
   "outputs": [
    {
     "name": "stdout",
     "output_type": "stream",
     "text": [
      "Requirement already satisfied: pandas in /usr/local/lib/python3.10/dist-packages (2.2.2)\n",
      "Requirement already satisfied: numpy>=1.22.4 in /usr/local/lib/python3.10/dist-packages (from pandas) (1.26.4)\n",
      "Requirement already satisfied: python-dateutil>=2.8.2 in /usr/local/lib/python3.10/dist-packages (from pandas) (2.8.2)\n",
      "Requirement already satisfied: pytz>=2020.1 in /usr/local/lib/python3.10/dist-packages (from pandas) (2024.2)\n",
      "Requirement already satisfied: tzdata>=2022.7 in /usr/local/lib/python3.10/dist-packages (from pandas) (2024.2)\n",
      "Requirement already satisfied: six>=1.5 in /usr/local/lib/python3.10/dist-packages (from python-dateutil>=2.8.2->pandas) (1.16.0)\n",
      "Requirement already satisfied: cassandra-driver in /usr/local/lib/python3.10/dist-packages (3.29.2)\n",
      "Requirement already satisfied: geomet<0.3,>=0.1 in /usr/local/lib/python3.10/dist-packages (from cassandra-driver) (0.2.1.post1)\n",
      "Requirement already satisfied: click in /usr/local/lib/python3.10/dist-packages (from geomet<0.3,>=0.1->cassandra-driver) (8.1.7)\n",
      "Requirement already satisfied: six in /usr/local/lib/python3.10/dist-packages (from geomet<0.3,>=0.1->cassandra-driver) (1.16.0)\n"
     ]
    }
   ],
   "source": [
    "!pip install pandas\n",
    "\n",
    "!pip install cassandra-driver"
   ]
  },
  {
   "cell_type": "code",
   "execution_count": 59,
   "metadata": {
    "colab": {
     "base_uri": "https://localhost:8080/"
    },
    "id": "Cx132228DX5F",
    "outputId": "254e5ba4-365c-4265-9cdb-723ddf0aa8f4"
   },
   "outputs": [
    {
     "name": "stderr",
     "output_type": "stream",
     "text": [
      "WARNING:cassandra.cluster:Downgrading core protocol version from 66 to 65 for 79b5ca04-79a8-4904-b1ef-5c8c9637e1fb-us-east1.db.astra.datastax.com:29042:00694036-11ec-39fb-8238-d79afd9b0e46. To avoid this, it is best practice to explicitly set Cluster(protocol_version) to the version supported by your cluster. http://datastax.github.io/python-driver/api/cassandra/cluster.html#cassandra.cluster.Cluster.protocol_version\n",
      "WARNING:cassandra.cluster:Downgrading core protocol version from 65 to 5 for 79b5ca04-79a8-4904-b1ef-5c8c9637e1fb-us-east1.db.astra.datastax.com:29042:00694036-11ec-39fb-8238-d79afd9b0e46. To avoid this, it is best practice to explicitly set Cluster(protocol_version) to the version supported by your cluster. http://datastax.github.io/python-driver/api/cassandra/cluster.html#cassandra.cluster.Cluster.protocol_version\n",
      "WARNING:cassandra.cluster:Downgrading core protocol version from 5 to 4 for 79b5ca04-79a8-4904-b1ef-5c8c9637e1fb-us-east1.db.astra.datastax.com:29042:00694036-11ec-39fb-8238-d79afd9b0e46. To avoid this, it is best practice to explicitly set Cluster(protocol_version) to the version supported by your cluster. http://datastax.github.io/python-driver/api/cassandra/cluster.html#cassandra.cluster.Cluster.protocol_version\n"
     ]
    },
    {
     "name": "stdout",
     "output_type": "stream",
     "text": [
      "Connected!\n"
     ]
    }
   ],
   "source": [
    "from cassandra.cluster import Cluster\n",
    "from cassandra.auth import PlainTextAuthProvider\n",
    "import json\n",
    "\n",
    "# Secure Connect Bundle Path\n",
    "cloud_config= {\n",
    "  'secure_connect_bundle': '/content/drive/MyDrive/Colab Notebooks/secure-connect-vinay-db.zip'\n",
    "}\n",
    "\n",
    "# Token for the database\n",
    "with open(\"/content/drive/MyDrive/Colab Notebooks/vinay_db-token.json\") as f:\n",
    "    secrets = json.load(f)\n",
    "\n",
    "CLIENT_ID = secrets[\"clientId\"]\n",
    "CLIENT_SECRET = secrets[\"secret\"]\n",
    "\n",
    "auth_provider = PlainTextAuthProvider(CLIENT_ID, CLIENT_SECRET)\n",
    "cluster = Cluster(cloud=cloud_config, auth_provider=auth_provider)\n",
    "session = cluster.connect()\n",
    "if session:\n",
    "  print('Connected!')\n",
    "else:\n",
    "  print(\"An error occurred.\")\n",
    "\n"
   ]
  },
  {
   "cell_type": "code",
   "execution_count": 60,
   "metadata": {
    "colab": {
     "base_uri": "https://localhost:8080/"
    },
    "id": "9YJmFccgFbA9",
    "outputId": "0a426eda-de06-48e0-ae08-f468f0fb4709"
   },
   "outputs": [
    {
     "name": "stdout",
     "output_type": "stream",
     "text": [
      "Connected to keyspace: medallion_architecture_sales\n"
     ]
    }
   ],
   "source": [
    "# Use the keyspace\n",
    "session.set_keyspace('medallion_architecture_sales')\n",
    "print(f\"Connected to keyspace: {session.keyspace}\")"
   ]
  },
  {
   "cell_type": "code",
   "execution_count": 62,
   "metadata": {
    "colab": {
     "base_uri": "https://localhost:8080/"
    },
    "id": "xUd8Vk4fGdkC",
    "outputId": "c635a9e8-ca24-48d3-e21a-df35460a6af5"
   },
   "outputs": [
    {
     "name": "stdout",
     "output_type": "stream",
     "text": [
      "Bronze Level Table created successfully.\n",
      "Silver Level Table created successfully.\n",
      "Gold Level Table (Sales by Region) created successfully.\n",
      "Gold Level Table (Sales by Item Type) created successfully.\n",
      "Gold Level Table (Sales by Channel) created successfully.\n"
     ]
    }
   ],
   "source": [
    "# Create Bronze Level Table\n",
    "session.execute(\"\"\"\n",
    "    CREATE TABLE IF NOT EXISTS bronze_sales (\n",
    "        region TEXT,\n",
    "        country TEXT,\n",
    "        item_type TEXT,\n",
    "        sales_channel TEXT,\n",
    "        order_priority TEXT,\n",
    "        order_date DATE,\n",
    "        order_id UUID PRIMARY KEY,\n",
    "        ship_date DATE,\n",
    "        units_sold INT,\n",
    "        unit_price DECIMAL,\n",
    "        unit_cost DECIMAL,\n",
    "        total_revenue DECIMAL,\n",
    "        total_cost DECIMAL,\n",
    "        total_profit DECIMAL\n",
    "    );\n",
    "\"\"\")\n",
    "print(\"Bronze Level Table created successfully.\")\n",
    "\n",
    "# Create Silver Level Table\n",
    "session.execute(\"\"\"\n",
    "    CREATE TABLE IF NOT EXISTS silver_sales (\n",
    "        order_id UUID PRIMARY KEY,\n",
    "        region TEXT,\n",
    "        country TEXT,\n",
    "        item_type TEXT,\n",
    "        sales_channel TEXT,\n",
    "        units_sold INT,\n",
    "        unit_price DECIMAL,\n",
    "        unit_cost DECIMAL,\n",
    "        total_revenue DECIMAL,\n",
    "        total_cost DECIMAL,\n",
    "        total_profit DECIMAL\n",
    "    );\n",
    "\"\"\")\n",
    "print(\"Silver Level Table created successfully.\")\n",
    "\n",
    "# Create Gold Level Table 1: Sales by Region\n",
    "session.execute(\"\"\"\n",
    "    CREATE TABLE IF NOT EXISTS gold_sales_by_region (\n",
    "        region TEXT PRIMARY KEY,\n",
    "        total_sales DECIMAL\n",
    "    );\n",
    "\"\"\")\n",
    "print(\"Gold Level Table (Sales by Region) created successfully.\")\n",
    "\n",
    "# Create Gold Level Table 2: Sales by Item Type\n",
    "session.execute(\"\"\"\n",
    "    CREATE TABLE IF NOT EXISTS gold_sales_by_item_type (\n",
    "        item_type TEXT PRIMARY KEY,\n",
    "        total_sales DECIMAL\n",
    "    );\n",
    "\"\"\")\n",
    "print(\"Gold Level Table (Sales by Item Type) created successfully.\")\n",
    "\n",
    "# Create Gold Level Table 3: Sales by Channel\n",
    "session.execute(\"\"\"\n",
    "    CREATE TABLE IF NOT EXISTS gold_sales_by_channel (\n",
    "        sales_channel TEXT PRIMARY KEY,\n",
    "        total_sales DECIMAL\n",
    "    );\n",
    "\"\"\")\n",
    "print(\"Gold Level Table (Sales by Channel) created successfully.\")"
   ]
  },
  {
   "cell_type": "code",
   "execution_count": 66,
   "metadata": {
    "colab": {
     "base_uri": "https://localhost:8080/"
    },
    "id": "kNFP2sU0HCxT",
    "outputId": "1e538c35-5745-4c67-894f-3a5a7d986f1e"
   },
   "outputs": [
    {
     "name": "stdout",
     "output_type": "stream",
     "text": [
      "Existing tables in the keyspace: medallion_architecture_sales\n",
      "bronze_sales\n",
      "gold_sales_by_channel\n",
      "gold_sales_by_item_type\n",
      "gold_sales_by_region\n",
      "silver_sales\n"
     ]
    }
   ],
   "source": [
    "#Checking if tables are created\n",
    "tables = session.execute(\"SELECT table_name FROM system_schema.tables WHERE keyspace_name = 'medallion_architecture_sales'\")\n",
    "print(f\"Existing tables in the keyspace: {session.keyspace}\")\n",
    "for row in tables:\n",
    "    print(row.table_name)"
   ]
  },
  {
   "cell_type": "code",
   "execution_count": null,
   "metadata": {
    "colab": {
     "base_uri": "https://localhost:8080/"
    },
    "id": "2sTwtkN-Pb-b",
    "outputId": "1f1894be-8f3f-4207-a61c-4e06e063448a"
   },
   "outputs": [
    {
     "name": "stdout",
     "output_type": "stream",
     "text": [
      "Data inserted into bronze_sales.\n",
      "Row(order_id=UUID('e55f107c-c91c-4446-b649-b4c205ba7774'), country='Ghana', item_type='Clothes', order_date=Date(15280), order_priority='M', region='Sub-Saharan Africa', sales_channel='Online', ship_date=Date(15309), total_cost=Decimal('137482.24'), total_profit=Decimal('281715.84'), total_revenue=Decimal('419198.08'), unit_cost=Decimal('35.84'), unit_price=Decimal('109.28'), units_sold=3836)\n",
      "Row(order_id=UUID('c276cc42-7792-4194-912e-780d5b094440'), country='Dominican Republic', item_type='Baby Food', order_date=Date(15211), order_priority='H', region='Central America and the Caribbean', sales_channel='Offline', ship_date=Date(15241), total_cost=Decimal('43681.08'), total_profit=Decimal('26265.64'), total_revenue=Decimal('69946.72'), unit_cost=Decimal('159.42'), unit_price=Decimal('255.28'), units_sold=274)\n",
      "Row(order_id=UUID('1a6811a3-9c2d-4e09-be4d-b7e1bb201caa'), country='Togo', item_type='Cosmetics', order_date=Date(16686), order_priority='M', region='Sub-Saharan Africa', sales_channel='Online', ship_date=Date(16687), total_cost=Decimal('1265563.98'), total_profit=Decimal('835619.22'), total_revenue=Decimal('2101183.2'), unit_cost=Decimal('263.33'), unit_price=Decimal('437.2'), units_sold=4806)\n",
      "Row(order_id=UUID('8e1976fb-1bc2-4e18-b744-ea845e007dca'), country='The Bahamas', item_type='Fruits', order_date=Date(14778), order_priority='L', region='Central America and the Caribbean', sales_channel='Offline', ship_date=Date(14790), total_cost=Decimal('32800.8'), total_profit=Decimal('11423.4'), total_revenue=Decimal('44224.2'), unit_cost=Decimal('6.92'), unit_price=Decimal('9.33'), units_sold=4740)\n",
      "Row(order_id=UUID('192d4d22-1f5c-4eed-a2a1-81ffe261e94b'), country='Ghana', item_type='Fruits', order_date=Date(16950), order_priority='M', region='Sub-Saharan Africa', sales_channel='Offline', ship_date=Date(16956), total_cost=Decimal('9155.16'), total_profit=Decimal('3188.43'), total_revenue=Decimal('12343.59'), unit_cost=Decimal('6.92'), unit_price=Decimal('9.33'), units_sold=1323)\n",
      "Row(order_id=UUID('08a94b70-d715-429a-89c5-972db519b8ab'), country='Antigua and Barbuda ', item_type='Office Supplies', order_date=Date(15249), order_priority='C', region='Central America and the Caribbean', sales_channel='Offline', ship_date=Date(15251), total_cost=Decimal('3305673.12'), total_profit=Decimal('794996.25'), total_revenue=Decimal('4100669.37'), unit_cost=Decimal('524.96'), unit_price=Decimal('651.21'), units_sold=6297)\n",
      "Row(order_id=UUID('7274360a-a4d8-40ac-b7c7-745045c0bdc2'), country='Lebanon', item_type='Meat', order_date=Date(17233), order_priority='L', region='Middle East and North Africa', sales_channel='Online', ship_date=Date(17274), total_cost=Decimal('3198331.3'), total_profit=Decimal('501644.0'), total_revenue=Decimal('3699975.3'), unit_cost=Decimal('364.69'), unit_price=Decimal('421.89'), units_sold=8770)\n",
      "Row(order_id=UUID('800055ef-423e-4253-9a03-b5494b3fddad'), country='Tonga', item_type='Baby Food', order_date=Date(16932), order_priority='L', region='Australia and Oceania', sales_channel='Online', ship_date=Date(16952), total_cost=Decimal('881752.02'), total_profit=Decimal('530201.66'), total_revenue=Decimal('1411953.68'), unit_cost=Decimal('159.42'), unit_price=Decimal('255.28'), units_sold=5531)\n",
      "Row(order_id=UUID('d9375d0b-55a6-40fc-9c05-b65008c05e12'), country='China', item_type='Office Supplies', order_date=Date(16841), order_priority='M', region='Asia', sales_channel='Online', ship_date=Date(16889), total_cost=Decimal('3040043.36'), total_profit=Decimal('731113.75'), total_revenue=Decimal('3771157.11'), unit_cost=Decimal('524.96'), unit_price=Decimal('651.21'), units_sold=5791)\n",
      "Row(order_id=UUID('4f23a874-9477-4ef7-a402-318924a58fb4'), country='Belgium', item_type='Personal Care', order_date=Date(15279), order_priority='H', region='Europe', sales_channel='Online', ship_date=Date(15298), total_cost=Decimal('160206.09'), total_profit=Decimal('70844.62'), total_revenue=Decimal('231050.71'), unit_cost=Decimal('56.67'), unit_price=Decimal('81.73'), units_sold=2827)\n"
     ]
    }
   ],
   "source": [
    "import pandas as pd\n",
    "import uuid\n",
    "\n",
    "csv_file_path = '/content/drive/MyDrive/Colab Notebooks/sales_100.csv' \n",
    "df = pd.read_csv(csv_file_path)\n",
    "\n",
    "df['Order Date'] = pd.to_datetime(df['Order Date'], format='%m/%d/%Y').dt.strftime('%Y-%m-%d')\n",
    "df['Ship Date'] = pd.to_datetime(df['Ship Date'], format='%m/%d/%Y').dt.strftime('%Y-%m-%d')\n",
    "\n",
    "# Insert data into the Bronze table\n",
    "for _, row in df.iterrows():\n",
    "    session.execute(\"\"\"\n",
    "        INSERT INTO bronze_sales (region, country, item_type, sales_channel, order_priority,\n",
    "                                  order_date, order_id, ship_date, units_sold, unit_price,\n",
    "                                  unit_cost, total_revenue, total_cost, total_profit)\n",
    "        VALUES (%s, %s, %s, %s, %s, %s, %s, %s, %s, %s, %s, %s, %s, %s)\n",
    "    \"\"\", (\n",
    "        row['Region'], row['Country'], row['Item Type'], row['Sales Channel'],\n",
    "        row['Order Priority'], row['Order Date'], uuid.uuid4(),  # Generate UUID for each order\n",
    "        row['Ship Date'], row['UnitsSold'], row['UnitPrice'],\n",
    "        row['UnitCost'], row['TotalRevenue'], row['TotalCost'], row['TotalProfit']\n",
    "    ))\n",
    "\n",
    "print(\"Data inserted into bronze_sales.\")\n",
    "\n",
    "rows = session.execute(\"SELECT * FROM bronze_sales LIMIT 10;\")\n",
    "for row in rows:\n",
    "    print(row)\n"
   ]
  },
  {
   "cell_type": "code",
   "execution_count": null,
   "metadata": {
    "colab": {
     "base_uri": "https://localhost:8080/"
    },
    "id": "pTTxbVAzQwa7",
    "outputId": "f045c453-c39a-4f88-e595-e4fad14b1213"
   },
   "outputs": [
    {
     "name": "stdout",
     "output_type": "stream",
     "text": [
      "Rows before cleaning: 99\n",
      "Rows after cleaning: 99\n",
      "Row(order_id=UUID('e55f107c-c91c-4446-b649-b4c205ba7774'), country='Ghana', item_type='Clothes', region='Sub-Saharan Africa', sales_channel='Online', total_cost=Decimal('137482.24'), total_profit=Decimal('281715.84'), total_revenue=Decimal('419198.08'), unit_cost=Decimal('35.84'), unit_price=Decimal('109.28'), units_sold=3836)\n",
      "Row(order_id=UUID('c276cc42-7792-4194-912e-780d5b094440'), country='Dominican Republic', item_type='Baby Food', region='Central America and the Caribbean', sales_channel='Offline', total_cost=Decimal('43681.08'), total_profit=Decimal('26265.64'), total_revenue=Decimal('69946.72'), unit_cost=Decimal('159.42'), unit_price=Decimal('255.28'), units_sold=274)\n",
      "Row(order_id=UUID('1a6811a3-9c2d-4e09-be4d-b7e1bb201caa'), country='Togo', item_type='Cosmetics', region='Sub-Saharan Africa', sales_channel='Online', total_cost=Decimal('1265563.98'), total_profit=Decimal('835619.22'), total_revenue=Decimal('2101183.2'), unit_cost=Decimal('263.33'), unit_price=Decimal('437.2'), units_sold=4806)\n",
      "Row(order_id=UUID('8e1976fb-1bc2-4e18-b744-ea845e007dca'), country='The Bahamas', item_type='Fruits', region='Central America and the Caribbean', sales_channel='Offline', total_cost=Decimal('32800.8'), total_profit=Decimal('11423.4'), total_revenue=Decimal('44224.2'), unit_cost=Decimal('6.92'), unit_price=Decimal('9.33'), units_sold=4740)\n",
      "Row(order_id=UUID('192d4d22-1f5c-4eed-a2a1-81ffe261e94b'), country='Ghana', item_type='Fruits', region='Sub-Saharan Africa', sales_channel='Offline', total_cost=Decimal('9155.16'), total_profit=Decimal('3188.43'), total_revenue=Decimal('12343.59'), unit_cost=Decimal('6.92'), unit_price=Decimal('9.33'), units_sold=1323)\n",
      "Row(order_id=UUID('08a94b70-d715-429a-89c5-972db519b8ab'), country='Antigua and Barbuda ', item_type='Office Supplies', region='Central America and the Caribbean', sales_channel='Offline', total_cost=Decimal('3305673.12'), total_profit=Decimal('794996.25'), total_revenue=Decimal('4100669.37'), unit_cost=Decimal('524.96'), unit_price=Decimal('651.21'), units_sold=6297)\n",
      "Row(order_id=UUID('7274360a-a4d8-40ac-b7c7-745045c0bdc2'), country='Lebanon', item_type='Meat', region='Middle East and North Africa', sales_channel='Online', total_cost=Decimal('3198331.3'), total_profit=Decimal('501644.0'), total_revenue=Decimal('3699975.3'), unit_cost=Decimal('364.69'), unit_price=Decimal('421.89'), units_sold=8770)\n",
      "Row(order_id=UUID('800055ef-423e-4253-9a03-b5494b3fddad'), country='Tonga', item_type='Baby Food', region='Australia and Oceania', sales_channel='Online', total_cost=Decimal('881752.02'), total_profit=Decimal('530201.66'), total_revenue=Decimal('1411953.68'), unit_cost=Decimal('159.42'), unit_price=Decimal('255.28'), units_sold=5531)\n",
      "Row(order_id=UUID('d9375d0b-55a6-40fc-9c05-b65008c05e12'), country='China', item_type='Office Supplies', region='Asia', sales_channel='Online', total_cost=Decimal('3040043.36'), total_profit=Decimal('731113.75'), total_revenue=Decimal('3771157.11'), unit_cost=Decimal('524.96'), unit_price=Decimal('651.21'), units_sold=5791)\n",
      "Row(order_id=UUID('4f23a874-9477-4ef7-a402-318924a58fb4'), country='Belgium', item_type='Personal Care', region='Europe', sales_channel='Online', total_cost=Decimal('160206.09'), total_profit=Decimal('70844.62'), total_revenue=Decimal('231050.71'), unit_cost=Decimal('56.67'), unit_price=Decimal('81.73'), units_sold=2827)\n"
     ]
    }
   ],
   "source": [
    "rows_bronze = session.execute(\"SELECT * FROM bronze_sales;\")\n",
    "bronze_data = list(rows_bronze)\n",
    "\n",
    "columns = ['region', 'country', 'item_type', 'sales_channel', 'order_priority',\n",
    "           'order_date', 'order_id', 'ship_date', 'units_sold', 'unit_price',\n",
    "           'unit_cost', 'total_revenue', 'total_cost', 'total_profit']\n",
    "\n",
    "df_bronze = pd.DataFrame([{col: getattr(row, col, None) for col in columns} for row in bronze_data])\n",
    "\n",
    "df_cleaned = df_bronze.dropna(subset=['region', 'country', 'item_type', 'sales_channel',\n",
    "                                      'order_date', 'ship_date', 'units_sold',\n",
    "                                      'unit_price', 'unit_cost', 'total_revenue',\n",
    "                                      'total_cost', 'total_profit'])\n",
    "\n",
    "print(f\"Rows before cleaning: {len(df_bronze)}\")\n",
    "print(f\"Rows after cleaning: {len(df_cleaned)}\")\n",
    "\n",
    "for _, row in df_cleaned.iterrows():\n",
    "    session.execute(\"\"\"\n",
    "        INSERT INTO silver_sales (order_id, region, country, item_type, sales_channel, units_sold, unit_price,\n",
    "                                  unit_cost, total_revenue, total_cost, total_profit)\n",
    "        VALUES (%s, %s, %s, %s, %s, %s, %s, %s, %s, %s, %s)\n",
    "    \"\"\", (\n",
    "        row['order_id'],  \n",
    "        row['region'], row['country'], row['item_type'], row['sales_channel'],\n",
    "        row['units_sold'], row['unit_price'], row['unit_cost'], row['total_revenue'],\n",
    "        row['total_cost'], row['total_profit']\n",
    "    ))\n",
    "\n",
    "rows = session.execute(\"SELECT * FROM silver_sales LIMIT 10;\")\n",
    "for row in rows:\n",
    "    print(row)\n"
   ]
  },
  {
   "cell_type": "code",
   "execution_count": 71,
   "metadata": {
    "colab": {
     "base_uri": "https://localhost:8080/"
    },
    "id": "IihKbj-fc8lK",
    "outputId": "59221df6-68ea-435a-b385-0f9ec4b50293"
   },
   "outputs": [
    {
     "name": "stdout",
     "output_type": "stream",
     "text": [
      "Data inserted into gold_sales_by_region.\n",
      "Data inserted into gold_sales_by_item_type.\n",
      "Data inserted into gold_sales_by_channel.\n"
     ]
    }
   ],
   "source": [
    "rows_silver_sales = session.execute(\"SELECT * FROM silver_sales;\")\n",
    "\n",
    "region_sales = {}\n",
    "item_type_sales = {}\n",
    "channel_sales = {}\n",
    "\n",
    "for row in rows_silver_sales:\n",
    "    # Aggregate by Region\n",
    "    if row.region in region_sales:\n",
    "        region_sales[row.region] += row.total_revenue\n",
    "    else:\n",
    "        region_sales[row.region] = row.total_revenue\n",
    "\n",
    "    # Aggregate by Item Type\n",
    "    if row.item_type in item_type_sales:\n",
    "        item_type_sales[row.item_type] += row.total_revenue\n",
    "    else:\n",
    "        item_type_sales[row.item_type] = row.total_revenue\n",
    "\n",
    "    # Aggregate by Sales Channel\n",
    "    if row.sales_channel in channel_sales:\n",
    "        channel_sales[row.sales_channel] += row.total_revenue\n",
    "    else:\n",
    "        channel_sales[row.sales_channel] = row.total_revenue\n",
    "\n",
    "# Insert aggregated data into Gold Level Table 1: Sales by Region\n",
    "for region, total_sales in region_sales.items():\n",
    "    session.execute(\"\"\"\n",
    "        INSERT INTO gold_sales_by_region (region, total_sales)\n",
    "        VALUES (%s, %s)\n",
    "    \"\"\", (region, total_sales))\n",
    "\n",
    "print(\"Data inserted into gold_sales_by_region.\")\n",
    "\n",
    "# Insert aggregated data into Gold Level Table 2: Sales by Item Type\n",
    "for item_type, total_sales in item_type_sales.items():\n",
    "    session.execute(\"\"\"\n",
    "        INSERT INTO gold_sales_by_item_type (item_type, total_sales)\n",
    "        VALUES (%s, %s)\n",
    "    \"\"\", (item_type, total_sales))\n",
    "\n",
    "print(\"Data inserted into gold_sales_by_item_type.\")\n",
    "\n",
    "# Insert aggregated data into Gold Level Table 3: Sales by Channel\n",
    "for sales_channel, total_sales in channel_sales.items():\n",
    "    session.execute(\"\"\"\n",
    "        INSERT INTO gold_sales_by_channel (sales_channel, total_sales)\n",
    "        VALUES (%s, %s)\n",
    "    \"\"\", (sales_channel, total_sales))\n",
    "\n",
    "print(\"Data inserted into gold_sales_by_channel.\")\n"
   ]
  },
  {
   "cell_type": "code",
   "execution_count": 72,
   "metadata": {
    "colab": {
     "base_uri": "https://localhost:8080/"
    },
    "id": "tXltDV-6eGIn",
    "outputId": "1b3f757b-2e5f-4670-9f6c-047c647940c1"
   },
   "outputs": [
    {
     "name": "stdout",
     "output_type": "stream",
     "text": [
      "Row(region='Australia and Oceania', total_sales=Decimal('10711258.13'))\n",
      "Row(region='Europe', total_sales=Decimal('34964749.83'))\n",
      "Row(region='Middle East and North Africa', total_sales=Decimal('24765127.25'))\n",
      "Row(region='Central America and the Caribbean', total_sales=Decimal('17570835.42'))\n",
      "Row(region='Asia', total_sales=Decimal('28840812.19'))\n",
      "Row(region='Sub-Saharan Africa', total_sales=Decimal('24225437.42'))\n",
      "Row(region='North America', total_sales=Decimal('3611757.52'))\n"
     ]
    }
   ],
   "source": [
    "# Querying the table gold_sales_by_region table to verify\n",
    "rows = session.execute(\"SELECT * FROM gold_sales_by_region;\")\n",
    "for row in rows:\n",
    "    print(row)"
   ]
  },
  {
   "cell_type": "code",
   "execution_count": 73,
   "metadata": {
    "colab": {
     "base_uri": "https://localhost:8080/"
    },
    "id": "5sBy_fD3la4n",
    "outputId": "20470966-f8df-431e-c39e-4ecfd87efb62"
   },
   "outputs": [
    {
     "name": "stdout",
     "output_type": "stream",
     "text": [
      "Row(item_type='Household', total_sales=Decimal('38519082.8'))\n",
      "Row(item_type='Office Supplies', total_sales=Decimal('27880904.94'))\n",
      "Row(item_type='Vegetables', total_sales=Decimal('1135114.08'))\n",
      "Row(item_type='Snacks', total_sales=Decimal('2193642.66'))\n",
      "Row(item_type='Personal Care', total_sales=Decimal('3191147.85'))\n",
      "Row(item_type='Meat', total_sales=Decimal('21278865.93'))\n",
      "Row(item_type='Fruits', total_sales=Decimal('615033.6'))\n",
      "Row(item_type='Beverages', total_sales=Decimal('2145024.7'))\n",
      "Row(item_type='Cereal', total_sales=Decimal('9416123.2'))\n",
      "Row(item_type='Cosmetics', total_sales=Decimal('28727100.4'))\n",
      "Row(item_type='Baby Food', total_sales=Decimal('5200564.16'))\n",
      "Row(item_type='Clothes', total_sales=Decimal('4387373.44'))\n"
     ]
    }
   ],
   "source": [
    "# Querying the table gold_sales_by_item_type table to verify\n",
    "rows = session.execute(\"SELECT * FROM gold_sales_by_item_type;\")\n",
    "for row in rows:\n",
    "    print(row)\n"
   ]
  },
  {
   "cell_type": "code",
   "execution_count": 74,
   "metadata": {
    "colab": {
     "base_uri": "https://localhost:8080/"
    },
    "id": "g1wlTAmalc_t",
    "outputId": "3d93e93e-b094-46aa-b655-42099bec759b"
   },
   "outputs": [
    {
     "name": "stdout",
     "output_type": "stream",
     "text": [
      "Row(sales_channel='Online', total_sales=Decimal('84628184.37'))\n",
      "Row(sales_channel='Offline', total_sales=Decimal('60061793.39'))\n"
     ]
    }
   ],
   "source": [
    "# Querying the table gold_sales_by_channel table to verify\n",
    "rows = session.execute(\"SELECT * FROM gold_sales_by_channel;\")\n",
    "for row in rows:\n",
    "    print(row)"
   ]
  }
 ],
 "metadata": {
  "colab": {
   "provenance": []
  },
  "kernelspec": {
   "display_name": "Python 3",
   "name": "python3"
  },
  "language_info": {
   "name": "python"
  }
 },
 "nbformat": 4,
 "nbformat_minor": 0
}
